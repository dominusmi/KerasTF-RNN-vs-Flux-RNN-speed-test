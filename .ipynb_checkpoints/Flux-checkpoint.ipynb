{
 "cells": [
  {
   "cell_type": "code",
   "execution_count": 1,
   "metadata": {},
   "outputs": [
    {
     "name": "stderr",
     "output_type": "stream",
     "text": [
      "┌ Info: CUDAdrv.jl failed to initialize, GPU functionality unavailable (set JULIA_CUDA_SILENT or JULIA_CUDA_VERBOSE to silence or expand this message)\n",
      "└ @ CUDAdrv /home/edoardo/.julia/packages/CUDAdrv/mCr0O/src/CUDAdrv.jl:69\n"
     ]
    }
   ],
   "source": [
    "using Flux"
   ]
  },
  {
   "cell_type": "code",
   "execution_count": 2,
   "metadata": {},
   "outputs": [
    {
     "name": "stdout",
     "output_type": "stream",
     "text": [
      "Julia Version 1.3.0\n",
      "Commit 46ce4d7933 (2019-11-26 06:09 UTC)\n",
      "Platform Info:\n",
      "  OS: Linux (x86_64-pc-linux-gnu)\n",
      "  CPU: Intel(R) Core(TM) i7-6820HQ CPU @ 2.70GHz\n",
      "  WORD_SIZE: 64\n",
      "  LIBM: libopenlibm\n",
      "  LLVM: libLLVM-6.0.1 (ORCJIT, skylake)\n"
     ]
    }
   ],
   "source": [
    "versioninfo()"
   ]
  },
  {
   "cell_type": "code",
   "execution_count": 3,
   "metadata": {},
   "outputs": [],
   "source": [
    "mutable struct MinimalRNNCell{T,H}\n",
    "    kernel::T\n",
    "    recurrent_kernel::T\n",
    "    hidden::H\n",
    "end\n",
    "\n",
    "function MinimalRNNCell(input_shape, units::Integer)\n",
    "    kernel = rand(input_shape[end], units)*0.1.-0.05\n",
    "    recurrent_kernel = rand(units, units)*0.1.-0.05\n",
    "    MinimalRNNCell(kernel, recurrent_kernel, zeros(units))\n",
    "end\n",
    "\n",
    "function (c::MinimalRNNCell)(hᵢ₋₁::AbstractArray, x::AbstractArray)\n",
    "    output = (c.kernel * x) + (c.recurrent_kernel * hᵢ₋₁)\n",
    "    c.hidden = output\n",
    "    return output, output\n",
    "end\n",
    "Flux.hidden(c::MinimalRNNCell) = c.hidden\n",
    "\n",
    "Flux.@functor MinimalRNNCell"
   ]
  },
  {
   "cell_type": "code",
   "execution_count": 4,
   "metadata": {},
   "outputs": [
    {
     "data": {
      "text/plain": [
       "GenerateSample (generic function with 1 method)"
      ]
     },
     "execution_count": 4,
     "metadata": {},
     "output_type": "execute_result"
    }
   ],
   "source": [
    "function GenerateSample(length, output)\n",
    "    inputs = randn(length, output) * 0.1\n",
    "    outputs = zeros((length,output))\n",
    "    for i in 1:length\n",
    "        if i == 1\n",
    "            outputs[i,:] = inputs[i,:]\n",
    "        else\n",
    "            outputs[i,:] = inputs[i,:] + inputs[i-1,:] \n",
    "        end\n",
    "    end\n",
    "    inputs, outputs\n",
    "end"
   ]
  },
  {
   "cell_type": "code",
   "execution_count": 5,
   "metadata": {},
   "outputs": [],
   "source": [
    "train_x = zeros(50,10,3)\n",
    "train_y = zeros(50,10,3)\n",
    "for i in 1:50\n",
    "   train_x[i,:,:], train_y[i,:,:] = GenerateSample(10,3) \n",
    "end"
   ]
  },
  {
   "cell_type": "code",
   "execution_count": 6,
   "metadata": {},
   "outputs": [
    {
     "data": {
      "text/plain": [
       "Chain(Recur(MinimalRNNCell{Array{Float64,2},Array{Float64,1}}([0.03687930734524261 0.02754005515463638 -0.024762755556102925; -0.03724291563801674 -0.03712461584111522 0.005946200009111703; -0.004632328710569976 0.04672460924357984 -0.034375428046249115], [0.03963564520571042 0.04668264902157114 0.02846412526055718; -0.04441128115876012 -0.03668172694461785 -0.029210850691534597; 0.035634119136127504 -0.01114081932601603 -0.029229659728985214], [0.0, 0.0, 0.0])))"
      ]
     },
     "execution_count": 6,
     "metadata": {},
     "output_type": "execute_result"
    }
   ],
   "source": [
    "opt = Flux.ADAM()\n",
    "function loss(model, x,y)\n",
    "    total_loss = 0.\n",
    "    for i in 1:size(x,1)\n",
    "        for j in 1:size(x,2)\n",
    "            @inbounds total_loss += Flux.mse(model(train_x[i,j,:]),y[i,j,:])\n",
    "        end    \n",
    "        Flux.reset!(model)\n",
    "    end\n",
    "    total_loss / size(x,1)\n",
    "end\n",
    "m = Chain(Flux.Recur(MinimalRNNCell((10,3),3)))"
   ]
  },
  {
   "cell_type": "code",
   "execution_count": 7,
   "metadata": {},
   "outputs": [
    {
     "name": "stdout",
     "output_type": "stream",
     "text": [
      "Variables\n",
      "  c\u001b[36m::MinimalRNNCell{Array{Float64,2},Array{Float64,1}}\u001b[39m\n",
      "  hᵢ₋₁\u001b[36m::Array{Float64,1}\u001b[39m\n",
      "  x\u001b[36m::Array{Float64,1}\u001b[39m\n",
      "  output\u001b[36m::Array{Float64,1}\u001b[39m\n",
      "\n",
      "Body\u001b[36m::Tuple{Array{Float64,1},Array{Float64,1}}\u001b[39m\n",
      "\u001b[90m1 ─\u001b[39m %1 = Base.getproperty(c, :kernel)\u001b[36m::Array{Float64,2}\u001b[39m\n",
      "\u001b[90m│  \u001b[39m %2 = (%1 * x)\u001b[36m::Array{Float64,1}\u001b[39m\n",
      "\u001b[90m│  \u001b[39m %3 = Base.getproperty(c, :recurrent_kernel)\u001b[36m::Array{Float64,2}\u001b[39m\n",
      "\u001b[90m│  \u001b[39m %4 = (%3 * hᵢ₋₁)\u001b[36m::Array{Float64,1}\u001b[39m\n",
      "\u001b[90m│  \u001b[39m      (output = %2 + %4)\n",
      "\u001b[90m│  \u001b[39m      Base.setproperty!(c, :hidden, output)\n",
      "\u001b[90m│  \u001b[39m %7 = Core.tuple(output, output)\u001b[36m::Tuple{Array{Float64,1},Array{Float64,1}}\u001b[39m\n",
      "\u001b[90m└──\u001b[39m      return %7\n"
     ]
    }
   ],
   "source": [
    "# Set up hidden state\n",
    "m(train_x[1,1,:])\n",
    "@code_warntype m.layers[1].cell(m.layers[1].state, train_x[1,1,:])"
   ]
  },
  {
   "cell_type": "code",
   "execution_count": 9,
   "metadata": {},
   "outputs": [
    {
     "data": {
      "text/plain": [
       "fit! (generic function with 1 method)"
      ]
     },
     "execution_count": 9,
     "metadata": {},
     "output_type": "execute_result"
    }
   ],
   "source": [
    "function fit!(model, train_x, train_y, epochs; opt=Flux.ADAM(), ps=params(model) )\n",
    "    Flux.reset!(model)\n",
    "    for i in 1:epochs\n",
    "        println(\"Epoch $i\")\n",
    "         start = time_ns()\n",
    "        gs = gradient(ps) do\n",
    "            loss(model, train_x, train_y)\n",
    "        end\n",
    "        Flux.Optimise.update!(opt, ps, gs)\n",
    "        stop = time_ns()\n",
    "        println(\"$((stop-start) / 1000 ) μs\")\n",
    "    end\n",
    "end"
   ]
  },
  {
   "cell_type": "code",
   "execution_count": 10,
   "metadata": {},
   "outputs": [
    {
     "name": "stdout",
     "output_type": "stream",
     "text": [
      "Epoch 1\n",
      "5.825926645e6 μs\n",
      "Epoch 2\n",
      "65054.949 μs\n",
      "Epoch 3\n",
      "72434.712 μs\n",
      "Epoch 4\n",
      "62050.673 μs\n",
      "Epoch 5\n",
      "67654.452 μs\n",
      "Epoch 6\n",
      "70062.746 μs\n",
      "Epoch 7\n",
      "86605.568 μs\n",
      "Epoch 8\n",
      "71512.929 μs\n",
      "Epoch 9\n",
      "76081.85 μs\n",
      "Epoch 10\n",
      "61641.571 μs\n"
     ]
    }
   ],
   "source": [
    "fit!(m, train_x, train_y, 10)"
   ]
  }
 ],
 "metadata": {
  "@webio": {
   "lastCommId": null,
   "lastKernelId": null
  },
  "kernelspec": {
   "display_name": "Julia 1.3.0",
   "language": "julia",
   "name": "julia-1.3"
  },
  "language_info": {
   "file_extension": ".jl",
   "mimetype": "application/julia",
   "name": "julia",
   "version": "1.3.0"
  }
 },
 "nbformat": 4,
 "nbformat_minor": 2
}
