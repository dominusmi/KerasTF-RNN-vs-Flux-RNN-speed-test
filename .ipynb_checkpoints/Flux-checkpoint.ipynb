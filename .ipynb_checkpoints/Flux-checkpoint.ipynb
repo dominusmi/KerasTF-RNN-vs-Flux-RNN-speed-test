{
 "cells": [
  {
   "cell_type": "code",
   "execution_count": 1,
   "metadata": {},
   "outputs": [
    {
     "name": "stderr",
     "output_type": "stream",
     "text": [
      "┌ Info: CUDAdrv.jl failed to initialize, GPU functionality unavailable (set JULIA_CUDA_SILENT or JULIA_CUDA_VERBOSE to silence or expand this message)\n",
      "└ @ CUDAdrv /home/edoardo/.julia/packages/CUDAdrv/mCr0O/src/CUDAdrv.jl:69\n"
     ]
    }
   ],
   "source": [
    "using Flux"
   ]
  },
  {
   "cell_type": "code",
   "execution_count": 3,
   "metadata": {},
   "outputs": [],
   "source": [
    "struct MinimalRNNCell\n",
    "    kernel\n",
    "    recurrent_kernel\n",
    "end\n",
    "\n",
    "function MinimalRNNCell(input_shape, units)\n",
    "    kernel = rand(input_shape[end], units)*0.1-0.05\n",
    "    recurrent_kernel = rand(units, units)*0.1-0.05\n",
    "    MinimalRNNCell(kernel, recurrent_kernel)\n",
    "end\n",
    "\n",
    "function (c::MinimalRNNCell)(hᵢ₋₁::AbstractArray, input::Number)\n",
    "    output = (x * cell.kernel) + (hᵢ₋₁ * cell.recurrent_kernel)\n",
    "    return output, output\n",
    "end\n",
    "\n",
    "Flux.@treelike MinimalRNNCell"
   ]
  },
  {
   "cell_type": "code",
   "execution_count": 4,
   "metadata": {},
   "outputs": [
    {
     "data": {
      "text/plain": [
       "GenerateSample (generic function with 1 method)"
      ]
     },
     "execution_count": 4,
     "metadata": {},
     "output_type": "execute_result"
    }
   ],
   "source": [
    "function GenerateSample(length, output)\n",
    "    inputs = randn(length, output) * 0.1\n",
    "    outputs = zeros((length,output))\n",
    "    for i in 1:length\n",
    "        if i == 1\n",
    "            outputs[i,:] = inputs[i,:]\n",
    "        else\n",
    "            outputs[i,:] = inputs[i,:] + inputs[i-1,:] \n",
    "        end\n",
    "    end\n",
    "    inputs, outputs\n",
    "end"
   ]
  },
  {
   "cell_type": "code",
   "execution_count": 5,
   "metadata": {},
   "outputs": [],
   "source": [
    "train_x = zeros(50,10,3)\n",
    "train_y = zeros(50,10,3)\n",
    "for i in 1:50\n",
    "   train_x[i,:,:], train_y[i,:,:] = GenerateSample(10,3) \n",
    "end"
   ]
  },
  {
   "cell_type": "code",
   "execution_count": 6,
   "metadata": {},
   "outputs": [
    {
     "data": {
      "text/plain": [
       "ADAM(0.001, (0.9, 0.999), IdDict{Any,Any}())"
      ]
     },
     "execution_count": 6,
     "metadata": {},
     "output_type": "execute_result"
    }
   ],
   "source": [
    "opt = Flux.ADAM()\n",
    "function loss(model, x,y)\n",
    "    total_loss = 0.\n",
    "    for i in 1:size(x,1)\n",
    "        total_loss += Flux.mse(model(x[i,:]),y[i,:])\n",
    "        Flux.reset!(m)\n",
    "    end\n",
    "    total_loss\n",
    "end\n",
    "m = Chain(Flux.RNN(MinimalRNNCell((10,3),3)))"
   ]
  },
  {
   "cell_type": "code",
   "execution_count": null,
   "metadata": {},
   "outputs": [],
   "source": [
    "evalcb = () -> @show loss(m, train_x, train_y)\n",
    "function fit!(m, train_x, train_y, epochs)\n",
    "    Flux.reset!(m)\n",
    "    for i in 1:epochs\n",
    "        gs = gradient(ps) do\n",
    "            loss(m, train_x, train_y)\n",
    "        end\n",
    "        Flux.Optimise.update!(opt, ps, gs)\n",
    "    end\n",
    "end"
   ]
  }
 ],
 "metadata": {
  "kernelspec": {
   "display_name": "Julia 1.1.1",
   "language": "julia",
   "name": "julia-1.1"
  },
  "language_info": {
   "file_extension": ".jl",
   "mimetype": "application/julia",
   "name": "julia",
   "version": "1.1.1"
  }
 },
 "nbformat": 4,
 "nbformat_minor": 2
}
