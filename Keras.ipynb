{
 "cells": [
  {
   "cell_type": "code",
   "execution_count": 44,
   "metadata": {},
   "outputs": [],
   "source": [
    "import keras\n",
    "from keras import backend as K\n",
    "import random\n",
    "import tensorflow as tf\n",
    "import numpy as np"
   ]
  },
  {
   "cell_type": "code",
   "execution_count": null,
   "metadata": {},
   "outputs": [],
   "source": []
  },
  {
   "cell_type": "code",
   "execution_count": 156,
   "metadata": {},
   "outputs": [],
   "source": [
    "class MinimalRNNCell(keras.layers.Layer):\n",
    "\n",
    "    def __init__(self, units, **kwargs):\n",
    "        self.units = units\n",
    "        self.state_size = units\n",
    "        super(MinimalRNNCell, self).__init__(**kwargs)\n",
    "\n",
    "    def build(self, input_shape):\n",
    "        self.kernel = self.add_weight(shape=(input_shape[-1], self.units),\n",
    "                                      initializer='uniform',\n",
    "                                      name='kernel')\n",
    "        self.recurrent_kernel = self.add_weight(\n",
    "            shape=(self.units, self.units),\n",
    "            initializer='uniform',\n",
    "            name='recurrent_kernel')\n",
    "        self.built = True\n",
    "\n",
    "    def call(self, inputs, hidden):\n",
    "        output = K.dot(inputs, self.kernel) + K.dot(hidden[0], self.recurrent_kernel)\n",
    "        return output, [output]"
   ]
  },
  {
   "cell_type": "code",
   "execution_count": 133,
   "metadata": {},
   "outputs": [],
   "source": [
    "sess = tf.Session()\n"
   ]
  },
  {
   "cell_type": "code",
   "execution_count": 157,
   "metadata": {},
   "outputs": [],
   "source": [
    "model = keras.Sequential()\n",
    "model.add( keras.layers.RNN(MinimalRNNCell(3),\n",
    "                            input_shape=(10,3),\n",
    "                            return_sequences=True\n",
    "                           ) )\n",
    "model.build()\n",
    "x = np.random.randn(1,10,3) \n",
    "y1 = model.predict(x)"
   ]
  },
  {
   "cell_type": "code",
   "execution_count": 83,
   "metadata": {},
   "outputs": [],
   "source": [
    "def GenerateSample(length, output):\n",
    "    inputs = np.random.randn(length, output) * 0.1\n",
    "    outputs = np.zeros((length,output))\n",
    "    for i in range(length):\n",
    "        if i == 0:\n",
    "            outputs[i,:] = inputs[i,:]\n",
    "        else:\n",
    "            outputs[i,:] = inputs[i,:] + inputs[i-1,:]\n",
    "    return (inputs, outputs)"
   ]
  },
  {
   "cell_type": "code",
   "execution_count": 85,
   "metadata": {},
   "outputs": [],
   "source": [
    "train_x = np.zeros((50,10,3))\n",
    "train_y = np.zeros((50,10,3))\n",
    "for i in range(50):\n",
    "    train_x[i,:,:], train_y[i,:,:] = GenerateSample(10,3)"
   ]
  },
  {
   "cell_type": "code",
   "execution_count": 167,
   "metadata": {},
   "outputs": [
    {
     "name": "stdout",
     "output_type": "stream",
     "text": [
      "Epoch 1/10\n",
      "50/50 [==============================] - 0s 7ms/step - loss: 0.0026\n",
      "Epoch 2/10\n",
      "50/50 [==============================] - 0s 102us/step - loss: 0.0026\n",
      "Epoch 3/10\n",
      "50/50 [==============================] - 0s 102us/step - loss: 0.0026\n",
      "Epoch 4/10\n",
      "50/50 [==============================] - 0s 104us/step - loss: 0.0026\n",
      "Epoch 5/10\n",
      "50/50 [==============================] - 0s 141us/step - loss: 0.0026\n",
      "Epoch 6/10\n",
      "50/50 [==============================] - 0s 162us/step - loss: 0.0026\n",
      "Epoch 7/10\n",
      "50/50 [==============================] - 0s 148us/step - loss: 0.0026\n",
      "Epoch 8/10\n",
      "50/50 [==============================] - 0s 128us/step - loss: 0.0026\n",
      "Epoch 9/10\n",
      "50/50 [==============================] - 0s 130us/step - loss: 0.0026\n",
      "Epoch 10/10\n",
      "50/50 [==============================] - 0s 126us/step - loss: 0.0026\n"
     ]
    }
   ],
   "source": [
    "opt = keras.optimizers.Adam()\n",
    "model.compile(loss=\"mse\", optimizer=opt)\n",
    "result = model.fit(\n",
    "    train_x, train_y,\n",
    "    epochs=10\n",
    ")"
   ]
  },
  {
   "cell_type": "markdown",
   "metadata": {},
   "source": [
    "Timing is per step, there are 50 steps so time per epoch ~ 5000-7000 micro seconds"
   ]
  }
 ],
 "metadata": {
  "kernelspec": {
   "display_name": "Python 3",
   "language": "python",
   "name": "python3"
  },
  "language_info": {
   "codemirror_mode": {
    "name": "ipython",
    "version": 3
   },
   "file_extension": ".py",
   "mimetype": "text/x-python",
   "name": "python",
   "nbconvert_exporter": "python",
   "pygments_lexer": "ipython3",
   "version": "3.6.5"
  }
 },
 "nbformat": 4,
 "nbformat_minor": 2
}
