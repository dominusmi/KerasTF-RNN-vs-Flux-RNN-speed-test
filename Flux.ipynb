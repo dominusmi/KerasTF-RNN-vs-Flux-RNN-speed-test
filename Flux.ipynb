{
 "cells": [
  {
   "cell_type": "code",
   "execution_count": 1,
   "metadata": {},
   "outputs": [
    {
     "name": "stderr",
     "output_type": "stream",
     "text": [
      "┌ Info: CUDAdrv.jl failed to initialize, GPU functionality unavailable (set JULIA_CUDA_SILENT or JULIA_CUDA_VERBOSE to silence or expand this message)\n",
      "└ @ CUDAdrv /home/edoardo/.julia/packages/CUDAdrv/mCr0O/src/CUDAdrv.jl:69\n"
     ]
    }
   ],
   "source": [
    "using Flux"
   ]
  },
  {
   "cell_type": "code",
   "execution_count": 2,
   "metadata": {},
   "outputs": [
    {
     "name": "stdout",
     "output_type": "stream",
     "text": [
      "Julia Version 1.3.0\n",
      "Commit 46ce4d7933 (2019-11-26 06:09 UTC)\n",
      "Platform Info:\n",
      "  OS: Linux (x86_64-pc-linux-gnu)\n",
      "  CPU: Intel(R) Core(TM) i7-6820HQ CPU @ 2.70GHz\n",
      "  WORD_SIZE: 64\n",
      "  LIBM: libopenlibm\n",
      "  LLVM: libLLVM-6.0.1 (ORCJIT, skylake)\n"
     ]
    }
   ],
   "source": [
    "versioninfo()"
   ]
  },
  {
   "cell_type": "code",
   "execution_count": 3,
   "metadata": {},
   "outputs": [],
   "source": [
    "mutable struct MinimalRNNCell{T,H}\n",
    "    kernel::T\n",
    "    recurrent_kernel::T\n",
    "    hidden::H\n",
    "end\n",
    "\n",
    "function MinimalRNNCell(input_shape, units::Integer)\n",
    "    kernel = rand(input_shape[end], units)*0.1.-0.05\n",
    "    recurrent_kernel = rand(units, units)*0.1.-0.05\n",
    "    MinimalRNNCell(kernel, recurrent_kernel, zeros(units))\n",
    "end\n",
    "\n",
    "function (c::MinimalRNNCell)(hᵢ₋₁::AbstractArray, x::AbstractArray)\n",
    "    output = (c.kernel * x) + (c.recurrent_kernel * hᵢ₋₁)\n",
    "    c.hidden = output\n",
    "    return output, output\n",
    "end\n",
    "Flux.hidden(c::MinimalRNNCell) = c.hidden\n",
    "\n",
    "Flux.@functor MinimalRNNCell"
   ]
  },
  {
   "cell_type": "code",
   "execution_count": 4,
   "metadata": {},
   "outputs": [
    {
     "data": {
      "text/plain": [
       "GenerateSample (generic function with 1 method)"
      ]
     },
     "execution_count": 4,
     "metadata": {},
     "output_type": "execute_result"
    }
   ],
   "source": [
    "function GenerateSample(length, output)\n",
    "    inputs = randn(length, output) * 0.1\n",
    "    outputs = zeros((length,output))\n",
    "    for i in 1:length\n",
    "        if i == 1\n",
    "            outputs[i,:] = inputs[i,:]\n",
    "        else\n",
    "            outputs[i,:] = inputs[i,:] + inputs[i-1,:] \n",
    "        end\n",
    "    end\n",
    "    inputs, outputs\n",
    "end"
   ]
  },
  {
   "cell_type": "code",
   "execution_count": 5,
   "metadata": {},
   "outputs": [],
   "source": [
    "train_x = zeros(50,10,3)\n",
    "train_y = zeros(50,10,3)\n",
    "for i in 1:50\n",
    "   train_x[i,:,:], train_y[i,:,:] = GenerateSample(10,3) \n",
    "end"
   ]
  },
  {
   "cell_type": "code",
   "execution_count": 14,
   "metadata": {},
   "outputs": [
    {
     "data": {
      "text/plain": [
       "Chain(Recur(MinimalRNNCell{Array{Float64,2},Array{Float64,1}}([0.021965766141725365 -0.04484158145864097 0.03765786082256732; -0.013919994877346277 0.040177198269033126 -0.012428416982709356; 0.01777357593503484 -0.007188381274188929 -0.015239923989250802], [-0.0461493766732751 0.02375341354285472 0.03705982736386296; -0.022759201890946268 -0.0036592526757153396 0.03613255917080056; -0.019441542085982255 -0.004312042151815174 -0.04169944625267066], [0.0, 0.0, 0.0])))"
      ]
     },
     "execution_count": 14,
     "metadata": {},
     "output_type": "execute_result"
    }
   ],
   "source": [
    "opt = Flux.ADAM()\n",
    "function loss(model, x,y)\n",
    "    total_loss = 0.\n",
    "    for i in 1:size(x,1)\n",
    "        for j in 1:size(x,2)\n",
    "            @inbounds total_loss += Flux.mse(model(x[i,j,:]),y[i,j,:])\n",
    "        end    \n",
    "        Flux.reset!(model)\n",
    "    end\n",
    "    total_loss / size(x,1)\n",
    "end\n",
    "m = Chain(Flux.Recur(MinimalRNNCell((10,3),3)))"
   ]
  },
  {
   "cell_type": "code",
   "execution_count": 7,
   "metadata": {},
   "outputs": [
    {
     "name": "stdout",
     "output_type": "stream",
     "text": [
      "Variables\n",
      "  c\u001b[36m::MinimalRNNCell{Array{Float64,2},Array{Float64,1}}\u001b[39m\n",
      "  hᵢ₋₁\u001b[36m::Array{Float64,1}\u001b[39m\n",
      "  x\u001b[36m::Array{Float64,1}\u001b[39m\n",
      "  output\u001b[36m::Array{Float64,1}\u001b[39m\n",
      "\n",
      "Body\u001b[36m::Tuple{Array{Float64,1},Array{Float64,1}}\u001b[39m\n",
      "\u001b[90m1 ─\u001b[39m %1 = Base.getproperty(c, :kernel)\u001b[36m::Array{Float64,2}\u001b[39m\n",
      "\u001b[90m│  \u001b[39m %2 = (%1 * x)\u001b[36m::Array{Float64,1}\u001b[39m\n",
      "\u001b[90m│  \u001b[39m %3 = Base.getproperty(c, :recurrent_kernel)\u001b[36m::Array{Float64,2}\u001b[39m\n",
      "\u001b[90m│  \u001b[39m %4 = (%3 * hᵢ₋₁)\u001b[36m::Array{Float64,1}\u001b[39m\n",
      "\u001b[90m│  \u001b[39m      (output = %2 + %4)\n",
      "\u001b[90m│  \u001b[39m      Base.setproperty!(c, :hidden, output)\n",
      "\u001b[90m│  \u001b[39m %7 = Core.tuple(output, output)\u001b[36m::Tuple{Array{Float64,1},Array{Float64,1}}\u001b[39m\n",
      "\u001b[90m└──\u001b[39m      return %7\n"
     ]
    }
   ],
   "source": [
    "# Set up hidden state\n",
    "m(train_x[1,1,:])\n",
    "@code_warntype m.layers[1].cell(m.layers[1].state, train_x[1,1,:])"
   ]
  },
  {
   "cell_type": "code",
   "execution_count": 15,
   "metadata": {},
   "outputs": [
    {
     "data": {
      "text/plain": [
       "fit! (generic function with 1 method)"
      ]
     },
     "execution_count": 15,
     "metadata": {},
     "output_type": "execute_result"
    }
   ],
   "source": [
    "function fit!(model, train_x, train_y, epochs; opt=Flux.ADAM(), ps=params(model) )\n",
    "    Flux.reset!(model)\n",
    "    for i in 1:epochs\n",
    "        println(\"Epoch $i\")\n",
    "         start = time_ns()\n",
    "        gs = gradient(ps) do\n",
    "            loss(model, train_x, train_y)\n",
    "        end\n",
    "        Flux.Optimise.update!(opt, ps, gs)\n",
    "        stop = time_ns()\n",
    "        println(\"$((stop-start) / 1000 ) μs\")\n",
    "    end\n",
    "end"
   ]
  },
  {
   "cell_type": "code",
   "execution_count": 16,
   "metadata": {},
   "outputs": [
    {
     "name": "stdout",
     "output_type": "stream",
     "text": [
      "Epoch 1\n",
      "259139.776 μs\n",
      "Epoch 2\n",
      "82188.526 μs\n",
      "Epoch 3\n",
      "64451.455 μs\n",
      "Epoch 4\n",
      "77448.534 μs\n",
      "Epoch 5\n",
      "58878.625 μs\n",
      "Epoch 6\n",
      "74176.883 μs\n",
      "Epoch 7\n",
      "56729.679 μs\n",
      "Epoch 8\n",
      "75344.094 μs\n",
      "Epoch 9\n",
      "59201.865 μs\n",
      "Epoch 10\n",
      "73786.638 μs\n"
     ]
    }
   ],
   "source": [
    "fit!(m, train_x, train_y, 10)"
   ]
  },
  {
   "cell_type": "code",
   "execution_count": 22,
   "metadata": {},
   "outputs": [
    {
     "data": {
      "text/plain": [
       "IdDict{Any,Any} with 1006 entries:\n",
       "  RefValue{Val{2}}(Val{2}()) => RefValue{Any}((x = nothing,))\n",
       "  RefValue{Val{2}}(Val{2}()) => RefValue{Any}((x = nothing,))\n",
       "  RefValue{Val{2}}(Val{2}()) => RefValue{Any}((x = nothing,))\n",
       "  RefValue{Val{2}}(Val{2}()) => RefValue{Any}((x = nothing,))\n",
       "  RefValue{typeof(^)}(^)     => RefValue{Any}((x = nothing,))\n",
       "  RefValue{typeof(^)}(^)     => RefValue{Any}((x = nothing,))\n",
       "  RefValue{typeof(^)}(^)     => RefValue{Any}((x = nothing,))\n",
       "  RefValue{typeof(^)}(^)     => RefValue{Any}((x = nothing,))\n",
       "  RefValue{Val{2}}(Val{2}()) => RefValue{Any}((x = nothing,))\n",
       "  RefValue{Val{2}}(Val{2}()) => RefValue{Any}((x = nothing,))\n",
       "  RefValue{typeof(^)}(^)     => RefValue{Any}((x = nothing,))\n",
       "  RefValue{typeof(^)}(^)     => RefValue{Any}((x = nothing,))\n",
       "  RefValue{typeof(^)}(^)     => RefValue{Any}((x = nothing,))\n",
       "  RefValue{typeof(^)}(^)     => RefValue{Any}((x = nothing,))\n",
       "  RefValue{Val{2}}(Val{2}()) => RefValue{Any}((x = nothing,))\n",
       "  RefValue{typeof(^)}(^)     => RefValue{Any}((x = nothing,))\n",
       "  RefValue{typeof(^)}(^)     => RefValue{Any}((x = nothing,))\n",
       "  RefValue{Val{2}}(Val{2}()) => RefValue{Any}((x = nothing,))\n",
       "  RefValue{typeof(^)}(^)     => RefValue{Any}((x = nothing,))\n",
       "  RefValue{Val{2}}(Val{2}()) => RefValue{Any}((x = nothing,))\n",
       "  RefValue{typeof(^)}(^)     => RefValue{Any}((x = nothing,))\n",
       "  RefValue{Val{2}}(Val{2}()) => RefValue{Any}((x = nothing,))\n",
       "  RefValue{Val{2}}(Val{2}()) => RefValue{Any}((x = nothing,))\n",
       "  RefValue{typeof(^)}(^)     => RefValue{Any}((x = nothing,))\n",
       "  RefValue{typeof(^)}(^)     => RefValue{Any}((x = nothing,))\n",
       "  ⋮                          => ⋮"
      ]
     },
     "execution_count": 22,
     "metadata": {},
     "output_type": "execute_result"
    }
   ],
   "source": [
    "using Profile\n",
    "ps = params(m)\n",
    "gs = gradient(ps) do\n",
    "    total_loss = 0.\n",
    "    for i in 1:size(train_x,1)\n",
    "        for j in 1:size(train_x,2)\n",
    "            @inbounds total_loss += Flux.mse(m(train_x[i,j,:]),train_y[i,j,:])\n",
    "        end    \n",
    "        Flux.reset!(m)\n",
    "    end\n",
    "    total_loss\n",
    "end\n",
    "gs.grads"
   ]
  },
  {
   "cell_type": "code",
   "execution_count": 20,
   "metadata": {},
   "outputs": [
    {
     "data": {
      "text/plain": [
       "Grads(...)"
      ]
     },
     "execution_count": 20,
     "metadata": {},
     "output_type": "execute_result"
    }
   ],
   "source": [
    "@profile gradient(ps) do\n",
    "    total_loss = 0.\n",
    "    for i in 1:size(train_x,1)\n",
    "        for j in 1:size(train_x,2)\n",
    "            @inbounds total_loss += Flux.mse(m(train_x[i,j,:]),train_y[i,j,:])\n",
    "        end    \n",
    "        Flux.reset!(m)\n",
    "    end\n",
    "    total_loss\n",
    "end\n",
    "Profile.print()"
   ]
  },
  {
   "cell_type": "code",
   "execution_count": 19,
   "metadata": {},
   "outputs": [
    {
     "data": {
      "text/plain": [
       "IdDict{Any,Any} with 1006 entries:\n",
       "  RefValue{typeof(^)}(^)     => RefValue{Any}((x = nothing,))\n",
       "  RefValue{Val{2}}(Val{2}()) => RefValue{Any}((x = nothing,))\n",
       "  RefValue{typeof(^)}(^)     => RefValue{Any}((x = nothing,))\n",
       "  RefValue{typeof(^)}(^)     => RefValue{Any}((x = nothing,))\n",
       "  RefValue{typeof(^)}(^)     => RefValue{Any}((x = nothing,))\n",
       "  RefValue{Val{2}}(Val{2}()) => RefValue{Any}((x = nothing,))\n",
       "  RefValue{typeof(^)}(^)     => RefValue{Any}((x = nothing,))\n",
       "  RefValue{Val{2}}(Val{2}()) => RefValue{Any}((x = nothing,))\n",
       "  RefValue{Val{2}}(Val{2}()) => RefValue{Any}((x = nothing,))\n",
       "  RefValue{Val{2}}(Val{2}()) => RefValue{Any}((x = nothing,))\n",
       "  RefValue{Val{2}}(Val{2}()) => RefValue{Any}((x = nothing,))\n",
       "  RefValue{Val{2}}(Val{2}()) => RefValue{Any}((x = nothing,))\n",
       "  RefValue{Val{2}}(Val{2}()) => RefValue{Any}((x = nothing,))\n",
       "  RefValue{typeof(^)}(^)     => RefValue{Any}((x = nothing,))\n",
       "  RefValue{Val{2}}(Val{2}()) => RefValue{Any}((x = nothing,))\n",
       "  RefValue{typeof(^)}(^)     => RefValue{Any}((x = nothing,))\n",
       "  RefValue{Val{2}}(Val{2}()) => RefValue{Any}((x = nothing,))\n",
       "  RefValue{Val{2}}(Val{2}()) => RefValue{Any}((x = nothing,))\n",
       "  RefValue{Val{2}}(Val{2}()) => RefValue{Any}((x = nothing,))\n",
       "  RefValue{typeof(^)}(^)     => RefValue{Any}((x = nothing,))\n",
       "  RefValue{typeof(^)}(^)     => RefValue{Any}((x = nothing,))\n",
       "  RefValue{typeof(^)}(^)     => RefValue{Any}((x = nothing,))\n",
       "  RefValue{typeof(^)}(^)     => RefValue{Any}((x = nothing,))\n",
       "  RefValue{Val{2}}(Val{2}()) => RefValue{Any}((x = nothing,))\n",
       "  RefValue{typeof(^)}(^)     => RefValue{Any}((x = nothing,))\n",
       "  ⋮                          => ⋮"
      ]
     },
     "execution_count": 19,
     "metadata": {},
     "output_type": "execute_result"
    }
   ],
   "source": []
  }
 ],
 "metadata": {
  "@webio": {
   "lastCommId": null,
   "lastKernelId": null
  },
  "kernelspec": {
   "display_name": "Julia 1.3.0",
   "language": "julia",
   "name": "julia-1.3"
  },
  "language_info": {
   "file_extension": ".jl",
   "mimetype": "application/julia",
   "name": "julia",
   "version": "1.3.0"
  }
 },
 "nbformat": 4,
 "nbformat_minor": 2
}
