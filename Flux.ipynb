{
 "cells": [
  {
   "cell_type": "code",
   "execution_count": 2,
   "metadata": {},
   "outputs": [
    {
     "name": "stdout",
     "output_type": "stream",
     "text": [
      "\u001b[32m\u001b[1m  Updating\u001b[22m\u001b[39m registry at `~/.julia/registries/General`\n",
      "\u001b[32m\u001b[1m  Updating\u001b[22m\u001b[39m git-repo `https://github.com/JuliaRegistries/General.git`\n",
      "\u001b[?25l\u001b[2K\u001b[?25h\u001b[32m\u001b[1m Resolving\u001b[22m\u001b[39m package versions...\n",
      "\u001b[32m\u001b[1m Installed\u001b[22m\u001b[39m IntelOpenMP_jll ── v2018.0.3+0\n",
      "\u001b[32m\u001b[1m Installed\u001b[22m\u001b[39m FFTW_jll ───────── v3.3.9+3\n",
      "\u001b[32m\u001b[1m Installed\u001b[22m\u001b[39m MKL_jll ────────── v2019.0.117+0\n",
      "\u001b[32m\u001b[1m Installed\u001b[22m\u001b[39m OpenSpecFun_jll ── v0.5.3+1\n",
      "\u001b[32m\u001b[1m Installed\u001b[22m\u001b[39m FFTW ───────────── v1.2.0\n",
      "\u001b[32m\u001b[1m Installed\u001b[22m\u001b[39m SpecialFunctions ─ v0.9.0\n",
      "\u001b[32m\u001b[1m  Updating\u001b[22m\u001b[39m `~/.julia/environments/v1.3/Project.toml`\n",
      " \u001b[90m [587475ba]\u001b[39m\u001b[92m + Flux v0.10.0\u001b[39m\n",
      "\u001b[32m\u001b[1m  Updating\u001b[22m\u001b[39m `~/.julia/environments/v1.3/Manifest.toml`\n",
      " \u001b[90m [621f4979]\u001b[39m\u001b[92m + AbstractFFTs v0.5.0\u001b[39m\n",
      " \u001b[90m [1520ce14]\u001b[39m\u001b[92m + AbstractTrees v0.2.1\u001b[39m\n",
      " \u001b[90m [79e6a3ab]\u001b[39m\u001b[92m + Adapt v1.0.0\u001b[39m\n",
      " \u001b[90m [fa961155]\u001b[39m\u001b[92m + CEnum v0.2.0\u001b[39m\n",
      " \u001b[90m [3895d2a7]\u001b[39m\u001b[92m + CUDAapi v2.1.0\u001b[39m\n",
      " \u001b[90m [c5f51814]\u001b[39m\u001b[92m + CUDAdrv v5.0.1\u001b[39m\n",
      " \u001b[90m [be33ccc6]\u001b[39m\u001b[92m + CUDAnative v2.7.0\u001b[39m\n",
      " \u001b[90m [944b1d66]\u001b[39m\u001b[92m + CodecZlib v0.6.0\u001b[39m\n",
      " \u001b[90m [3da002f7]\u001b[39m\u001b[92m + ColorTypes v0.8.1\u001b[39m\n",
      " \u001b[90m [5ae59095]\u001b[39m\u001b[92m + Colors v0.9.6\u001b[39m\n",
      " \u001b[90m [bbf7d656]\u001b[39m\u001b[92m + CommonSubexpressions v0.2.0\u001b[39m\n",
      " \u001b[90m [3a865a2d]\u001b[39m\u001b[92m + CuArrays v1.6.0\u001b[39m\n",
      " \u001b[90m [9a962f9c]\u001b[39m\u001b[92m + DataAPI v1.1.0\u001b[39m\n",
      " \u001b[90m [864edb3b]\u001b[39m\u001b[92m + DataStructures v0.17.6\u001b[39m\n",
      " \u001b[90m [163ba53b]\u001b[39m\u001b[92m + DiffResults v1.0.2\u001b[39m\n",
      " \u001b[90m [b552c78f]\u001b[39m\u001b[92m + DiffRules v1.0.0\u001b[39m\n",
      " \u001b[90m [7a1cc6ca]\u001b[39m\u001b[92m + FFTW v1.2.0\u001b[39m\n",
      " \u001b[90m [f5851436]\u001b[39m\u001b[92m + FFTW_jll v3.3.9+3\u001b[39m\n",
      " \u001b[90m [1a297f60]\u001b[39m\u001b[92m + FillArrays v0.8.2\u001b[39m\n",
      " \u001b[90m [53c48c17]\u001b[39m\u001b[92m + FixedPointNumbers v0.6.1\u001b[39m\n",
      " \u001b[90m [587475ba]\u001b[39m\u001b[92m + Flux v0.10.0\u001b[39m\n",
      " \u001b[90m [f6369f11]\u001b[39m\u001b[92m + ForwardDiff v0.10.8\u001b[39m\n",
      " \u001b[90m [0c68f7d7]\u001b[39m\u001b[92m + GPUArrays v2.0.1\u001b[39m\n",
      " \u001b[90m [7869d1d1]\u001b[39m\u001b[92m + IRTools v0.3.0\u001b[39m\n",
      " \u001b[90m [1d5cc7b8]\u001b[39m\u001b[92m + IntelOpenMP_jll v2018.0.3+0\u001b[39m\n",
      " \u001b[90m [e5e0dc1b]\u001b[39m\u001b[92m + Juno v0.7.2\u001b[39m\n",
      " \u001b[90m [929cbde3]\u001b[39m\u001b[92m + LLVM v1.3.2\u001b[39m\n",
      " \u001b[90m [856f044c]\u001b[39m\u001b[92m + MKL_jll v2019.0.117+0\u001b[39m\n",
      " \u001b[90m [1914dd2f]\u001b[39m\u001b[92m + MacroTools v0.5.3\u001b[39m\n",
      " \u001b[90m [e89f7d12]\u001b[39m\u001b[92m + Media v0.5.0\u001b[39m\n",
      " \u001b[90m [e1d29d7a]\u001b[39m\u001b[92m + Missings v0.4.3\u001b[39m\n",
      " \u001b[90m [872c559c]\u001b[39m\u001b[92m + NNlib v0.6.2\u001b[39m\n",
      " \u001b[90m [77ba4419]\u001b[39m\u001b[92m + NaNMath v0.3.3\u001b[39m\n",
      " \u001b[90m [efe28fd5]\u001b[39m\u001b[92m + OpenSpecFun_jll v0.5.3+1\u001b[39m\n",
      " \u001b[90m [bac558e1]\u001b[39m\u001b[92m + OrderedCollections v1.1.0\u001b[39m\n",
      " \u001b[90m [189a3867]\u001b[39m\u001b[92m + Reexport v0.2.0\u001b[39m\n",
      " \u001b[90m [ae029012]\u001b[39m\u001b[92m + Requires v1.0.0\u001b[39m\n",
      " \u001b[90m [a2af1166]\u001b[39m\u001b[92m + SortingAlgorithms v0.3.1\u001b[39m\n",
      " \u001b[90m [276daf66]\u001b[39m\u001b[92m + SpecialFunctions v0.9.0\u001b[39m\n",
      " \u001b[90m [90137ffa]\u001b[39m\u001b[92m + StaticArrays v0.12.1\u001b[39m\n",
      " \u001b[90m [2913bbd2]\u001b[39m\u001b[92m + StatsBase v0.32.0\u001b[39m\n",
      " \u001b[90m [a759f4b9]\u001b[39m\u001b[92m + TimerOutputs v0.5.3\u001b[39m\n",
      " \u001b[90m [3bb67fe8]\u001b[39m\u001b[92m + TranscodingStreams v0.9.5\u001b[39m\n",
      " \u001b[90m [a5390f91]\u001b[39m\u001b[92m + ZipFile v0.8.3\u001b[39m\n",
      " \u001b[90m [e88e6eb3]\u001b[39m\u001b[92m + Zygote v0.4.3\u001b[39m\n",
      " \u001b[90m [700de1a5]\u001b[39m\u001b[92m + ZygoteRules v0.2.0\u001b[39m\n",
      " \u001b[90m [8bb1440f]\u001b[39m\u001b[92m + DelimitedFiles \u001b[39m\n",
      " \u001b[90m [37e2e46d]\u001b[39m\u001b[92m + LinearAlgebra \u001b[39m\n",
      " \u001b[90m [9abbd945]\u001b[39m\u001b[92m + Profile \u001b[39m\n",
      " \u001b[90m [2f01184e]\u001b[39m\u001b[92m + SparseArrays \u001b[39m\n",
      " \u001b[90m [10745b16]\u001b[39m\u001b[92m + Statistics \u001b[39m\n",
      "\u001b[32m\u001b[1m  Building\u001b[22m\u001b[39m FFTW → `~/.julia/packages/FFTW/qqcBj/deps/build.log`\n"
     ]
    }
   ],
   "source": [
    "using Pkg\n",
    "Pkg.add(\"Flux\")"
   ]
  },
  {
   "cell_type": "code",
   "execution_count": 3,
   "metadata": {},
   "outputs": [
    {
     "name": "stderr",
     "output_type": "stream",
     "text": [
      "┌ Info: Precompiling Flux [587475ba-b771-5e3f-ad9e-33799f191a9c]\n",
      "└ @ Base loading.jl:1273\n",
      "┌ Info: CUDAdrv.jl failed to initialize, GPU functionality unavailable (set JULIA_CUDA_SILENT or JULIA_CUDA_VERBOSE to silence or expand this message)\n",
      "└ @ CUDAdrv /home/edoardo/.julia/packages/CUDAdrv/mCr0O/src/CUDAdrv.jl:69\n"
     ]
    }
   ],
   "source": [
    "using Flux"
   ]
  },
  {
   "cell_type": "code",
   "execution_count": 4,
   "metadata": {},
   "outputs": [
    {
     "name": "stdout",
     "output_type": "stream",
     "text": [
      "Julia Version 1.3.0\n",
      "Commit 46ce4d7933 (2019-11-26 06:09 UTC)\n",
      "Platform Info:\n",
      "  OS: Linux (x86_64-pc-linux-gnu)\n",
      "  CPU: Intel(R) Core(TM) i7-6820HQ CPU @ 2.70GHz\n",
      "  WORD_SIZE: 64\n",
      "  LIBM: libopenlibm\n",
      "  LLVM: libLLVM-6.0.1 (ORCJIT, skylake)\n"
     ]
    }
   ],
   "source": [
    "versioninfo()"
   ]
  },
  {
   "cell_type": "code",
   "execution_count": 5,
   "metadata": {},
   "outputs": [],
   "source": [
    "mutable struct MinimalRNNCell\n",
    "    kernel\n",
    "    recurrent_kernel\n",
    "    hidden\n",
    "end\n",
    "\n",
    "function MinimalRNNCell(input_shape, units::Integer)\n",
    "    @show input_shape, units\n",
    "    kernel = rand(input_shape[end], units)*0.1.-0.05\n",
    "    recurrent_kernel = rand(units, units)*0.1.-0.05\n",
    "    MinimalRNNCell(kernel, recurrent_kernel, zeros(units))\n",
    "end\n",
    "\n",
    "function (c::MinimalRNNCell)(hᵢ₋₁::AbstractArray, x::AbstractArray)\n",
    "    output = (c.kernel * x) + (c.recurrent_kernel * hᵢ₋₁)\n",
    "    c.hidden = output\n",
    "    return output, output\n",
    "end\n",
    "Flux.hidden(c::MinimalRNNCell) = c.hidden\n",
    "\n",
    "Flux.@functor MinimalRNNCell"
   ]
  },
  {
   "cell_type": "code",
   "execution_count": 6,
   "metadata": {},
   "outputs": [
    {
     "data": {
      "text/plain": [
       "GenerateSample (generic function with 1 method)"
      ]
     },
     "execution_count": 6,
     "metadata": {},
     "output_type": "execute_result"
    }
   ],
   "source": [
    "function GenerateSample(length, output)\n",
    "    inputs = randn(length, output) * 0.1\n",
    "    outputs = zeros((length,output))\n",
    "    for i in 1:length\n",
    "        if i == 1\n",
    "            outputs[i,:] = inputs[i,:]\n",
    "        else\n",
    "            outputs[i,:] = inputs[i,:] + inputs[i-1,:] \n",
    "        end\n",
    "    end\n",
    "    inputs, outputs\n",
    "end"
   ]
  },
  {
   "cell_type": "code",
   "execution_count": 7,
   "metadata": {},
   "outputs": [],
   "source": [
    "train_x = zeros(50,10,3)\n",
    "train_y = zeros(50,10,3)\n",
    "for i in 1:50\n",
    "   train_x[i,:,:], train_y[i,:,:] = GenerateSample(10,3) \n",
    "end"
   ]
  },
  {
   "cell_type": "code",
   "execution_count": 8,
   "metadata": {},
   "outputs": [
    {
     "name": "stdout",
     "output_type": "stream",
     "text": [
      "(input_shape, units) = ((10, 3), 3)\n"
     ]
    },
    {
     "data": {
      "text/plain": [
       "Chain(Recur(MinimalRNNCell([-0.006618050169654485 -0.012597542457500513 0.02292584107856581; 0.046121140977823494 -0.017644267380830338 -0.030403360825938575; -0.04928019969152722 0.0350777527568293 0.0485403999422835], [0.049575535041764804 -0.011630719732880414 0.035672969334825694; 0.023775557954710688 0.022093240376976575 -0.02096983479814232; 0.005260215741872631 0.012133051390779692 -0.003440076665253103], [0.0, 0.0, 0.0])))"
      ]
     },
     "execution_count": 8,
     "metadata": {},
     "output_type": "execute_result"
    }
   ],
   "source": [
    "opt = Flux.ADAM()\n",
    "function loss(model, x,y)\n",
    "    total_loss = 0.\n",
    "    for i in 1:size(x,1)\n",
    "        for j in 1:size(x,2)\n",
    "            total_loss += Flux.mse(model(train_x[i,j,:]),y[i,j,:])\n",
    "        end    \n",
    "        Flux.reset!(model)\n",
    "    end\n",
    "    total_loss / size(x,1)\n",
    "end\n",
    "m = Chain(Flux.Recur(MinimalRNNCell((10,3),3)))"
   ]
  },
  {
   "cell_type": "code",
   "execution_count": 9,
   "metadata": {},
   "outputs": [
    {
     "data": {
      "text/plain": [
       "fit! (generic function with 1 method)"
      ]
     },
     "execution_count": 9,
     "metadata": {},
     "output_type": "execute_result"
    }
   ],
   "source": [
    "function fit!(model, train_x, train_y, epochs; opt=Flux.ADAM(), ps=params(m) )\n",
    "    Flux.reset!(model)\n",
    "    for i in 1:epochs\n",
    "        println(\"Epoch $i\")\n",
    "         start = time_ns()\n",
    "        gs = gradient(ps) do\n",
    "            loss(model, train_x, train_y)\n",
    "        end\n",
    "        Flux.Optimise.update!(opt, ps, gs)\n",
    "        stop = time_ns()\n",
    "        println(\"$((stop-start) / 1000 ) μs\")\n",
    "    end\n",
    "end"
   ]
  },
  {
   "cell_type": "code",
   "execution_count": 10,
   "metadata": {},
   "outputs": [
    {
     "name": "stdout",
     "output_type": "stream",
     "text": [
      "Epoch 1\n",
      "6.70425942e6 μs\n",
      "Epoch 2\n",
      "71000.325 μs\n",
      "Epoch 3\n",
      "71977.786 μs\n",
      "Epoch 4\n",
      "73593.065 μs\n",
      "Epoch 5\n",
      "59459.09 μs\n",
      "Epoch 6\n",
      "71598.004 μs\n",
      "Epoch 7\n",
      "62607.518 μs\n",
      "Epoch 8\n",
      "64860.445 μs\n",
      "Epoch 9\n",
      "65571.948 μs\n",
      "Epoch 10\n",
      "73372.956 μs\n"
     ]
    }
   ],
   "source": [
    "fit!(m, train_x, train_y, 10)"
   ]
  }
 ],
 "metadata": {
  "@webio": {
   "lastCommId": null,
   "lastKernelId": null
  },
  "kernelspec": {
   "display_name": "Julia 1.3.0",
   "language": "julia",
   "name": "julia-1.3"
  },
  "language_info": {
   "file_extension": ".jl",
   "mimetype": "application/julia",
   "name": "julia",
   "version": "1.3.0"
  }
 },
 "nbformat": 4,
 "nbformat_minor": 2
}
