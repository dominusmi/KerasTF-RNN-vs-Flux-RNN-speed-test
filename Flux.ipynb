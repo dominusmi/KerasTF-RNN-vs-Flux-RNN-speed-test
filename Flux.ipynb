{
 "cells": [
  {
   "cell_type": "code",
   "execution_count": 1,
   "metadata": {},
   "outputs": [
    {
     "name": "stderr",
     "output_type": "stream",
     "text": [
      "┌ Info: CUDAdrv.jl failed to initialize, GPU functionality unavailable (set JULIA_CUDA_SILENT or JULIA_CUDA_VERBOSE to silence or expand this message)\n",
      "└ @ CUDAdrv /home/edoardo/.julia/packages/CUDAdrv/mCr0O/src/CUDAdrv.jl:69\n"
     ]
    }
   ],
   "source": [
    "using Flux"
   ]
  },
  {
   "cell_type": "code",
   "execution_count": 2,
   "metadata": {},
   "outputs": [],
   "source": [
    "mutable struct MinimalRNNCell\n",
    "    kernel\n",
    "    recurrent_kernel\n",
    "    hidden\n",
    "end\n",
    "\n",
    "function MinimalRNNCell(input_shape, units::Integer)\n",
    "    @show input_shape, units\n",
    "    kernel = rand(input_shape[end], units)*0.1.-0.05\n",
    "    recurrent_kernel = rand(units, units)*0.1.-0.05\n",
    "    MinimalRNNCell(kernel, recurrent_kernel, zeros(units))\n",
    "end\n",
    "\n",
    "function (c::MinimalRNNCell)(hᵢ₋₁::AbstractArray, x::AbstractArray)\n",
    "    output = (c.kernel * x) + (c.recurrent_kernel * hᵢ₋₁)\n",
    "    c.hidden = output\n",
    "    return output, output\n",
    "end\n",
    "Flux.hidden(c::MinimalRNNCell) = c.hidden\n",
    "\n",
    "Flux.@treelike MinimalRNNCell"
   ]
  },
  {
   "cell_type": "code",
   "execution_count": 3,
   "metadata": {},
   "outputs": [
    {
     "data": {
      "text/plain": [
       "GenerateSample (generic function with 1 method)"
      ]
     },
     "execution_count": 3,
     "metadata": {},
     "output_type": "execute_result"
    }
   ],
   "source": [
    "function GenerateSample(length, output)\n",
    "    inputs = randn(length, output) * 0.1\n",
    "    outputs = zeros((length,output))\n",
    "    for i in 1:length\n",
    "        if i == 1\n",
    "            outputs[i,:] = inputs[i,:]\n",
    "        else\n",
    "            outputs[i,:] = inputs[i,:] + inputs[i-1,:] \n",
    "        end\n",
    "    end\n",
    "    inputs, outputs\n",
    "end"
   ]
  },
  {
   "cell_type": "code",
   "execution_count": 4,
   "metadata": {},
   "outputs": [],
   "source": [
    "train_x = zeros(50,10,3)\n",
    "train_y = zeros(50,10,3)\n",
    "for i in 1:50\n",
    "   train_x[i,:,:], train_y[i,:,:] = GenerateSample(10,3) \n",
    "end"
   ]
  },
  {
   "cell_type": "code",
   "execution_count": 5,
   "metadata": {},
   "outputs": [
    {
     "name": "stdout",
     "output_type": "stream",
     "text": [
      "(input_shape, units) = ((10, 3), 3)\n"
     ]
    },
    {
     "data": {
      "text/plain": [
       "Chain(Recur(MinimalRNNCell([-0.00206949 -0.0243138 0.0280359; 0.0180573 -0.0376258 0.00967512; 0.0368002 -0.0135777 0.0473345], [0.0478481 0.0272412 -0.024224; 0.00323769 -0.0459578 0.0263321; 0.0334654 0.0322919 -0.0205755], [0.0, 0.0, 0.0])))"
      ]
     },
     "execution_count": 5,
     "metadata": {},
     "output_type": "execute_result"
    }
   ],
   "source": [
    "opt = Flux.ADAM()\n",
    "function loss(model, x,y)\n",
    "    total_loss = 0.\n",
    "    for i in 1:size(x,1)\n",
    "        for j in 1:size(x,2)\n",
    "            total_loss += Flux.mse(model(train_x[i,j,:]),y[i,j,:])\n",
    "        end    \n",
    "        Flux.reset!(model)\n",
    "    end\n",
    "    total_loss / size(x,1)\n",
    "end\n",
    "m = Chain(Flux.Recur(MinimalRNNCell((10,3),3)))"
   ]
  },
  {
   "cell_type": "code",
   "execution_count": 29,
   "metadata": {},
   "outputs": [
    {
     "data": {
      "text/plain": [
       "fit! (generic function with 1 method)"
      ]
     },
     "execution_count": 29,
     "metadata": {},
     "output_type": "execute_result"
    }
   ],
   "source": [
    "function fit!(model, train_x, train_y, epochs; opt=Flux.ADAM(), ps=params(m) )\n",
    "    Flux.reset!(model)\n",
    "    for i in 1:epochs\n",
    "        println(\"Epoch $i\")\n",
    "         start = time_ns()\n",
    "        gs = gradient(ps) do\n",
    "            loss(model, train_x, train_y)\n",
    "        end\n",
    "        Flux.Optimise.update!(opt, ps, gs)\n",
    "        stop = time_ns()\n",
    "        println(\"$((stop-start) / 1000 ) μs\")\n",
    "    end\n",
    "end"
   ]
  },
  {
   "cell_type": "code",
   "execution_count": 32,
   "metadata": {},
   "outputs": [
    {
     "name": "stdout",
     "output_type": "stream",
     "text": [
      "Epoch 1\n",
      "111516.723 μs\n",
      "Epoch 2\n",
      "76659.385 μs\n",
      "Epoch 3\n",
      "72747.869 μs\n",
      "Epoch 4\n",
      "82901.475 μs\n",
      "Epoch 5\n",
      "77223.784 μs\n",
      "Epoch 6\n",
      "78871.266 μs\n",
      "Epoch 7\n",
      "75633.205 μs\n",
      "Epoch 8\n",
      "76427.501 μs\n",
      "Epoch 9\n",
      "78777.9 μs\n",
      "Epoch 10\n",
      "76538.759 μs\n"
     ]
    }
   ],
   "source": [
    "fit!(m, train_x, train_y, 10)"
   ]
  }
 ],
 "metadata": {
  "@webio": {
   "lastCommId": null,
   "lastKernelId": null
  },
  "kernelspec": {
   "display_name": "Julia 1.1.1",
   "language": "julia",
   "name": "julia-1.1"
  },
  "language_info": {
   "file_extension": ".jl",
   "mimetype": "application/julia",
   "name": "julia",
   "version": "1.1.1"
  }
 },
 "nbformat": 4,
 "nbformat_minor": 2
}
